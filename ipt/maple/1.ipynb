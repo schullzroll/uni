{
 "cells": [
  {
   "cell_type": "code",
   "execution_count": 1,
   "metadata": {},
   "outputs": [],
   "source": [
    "# Zadani\n",
    "# pravdepodobnost neporuchy Ai-teho stroje\n",
    "A1N = 0.29\n",
    "A2N = 0.18\n",
    "A3N = 0.03\n",
    "A4N = 0.15\n",
    "\n",
    "# pravdepodobnost poruchy Ai-teho stroje\n",
    "A1 = 1 - A1N\n",
    "A2 = 1 - A2N \n",
    "A3 = 1 - A3N \n",
    "A4 = 1 - A4N "
   ]
  },
  {
   "cell_type": "code",
   "execution_count": 3,
   "metadata": {},
   "outputs": [
    {
     "name": "stdout",
     "output_type": "stream",
     "text": [
      "0.011\n",
      "0.108\n",
      "0.989\n"
     ]
    }
   ],
   "source": [
    "\n",
    "# Uloha 1\n",
    "                          # Pravdepodobnost ze...\n",
    "P1 = A1 * A2N * A3N * A4N # se poroucha se pouze 1.\n",
    "P2 = A1N * A2 * A3N * A4N # se poroucha se pouze 2.\n",
    "P3 = A1N * A2N * A3 * A4N # se poroucha se pouze 3.\n",
    "P4 = A1N * A2N * A3N * A4 # se poroucha se pouze 4.\n",
    "PFIN = P1 + P2 + P3 + P4\n",
    "print(str(round(PFIN, 3)))\n",
    "\n",
    "# Uloha 2\n",
    "                         # Pravdepodobnost ze...\n",
    "Q1 = A1 * A2 * A3N * A4N # se poroucha 1. a 2. stroj\n",
    "Q6 = A1 * A2N * A3 * A4N # se poroucha 1. a 3. stroj\n",
    "Q4 = A1 * A2N * A3N * A4 # se poroucha 1. a 4. stroj\n",
    "Q5 = A1N * A2 * A3 * A4N # se poroucha 2. a 3. stroj\n",
    "Q2 = A1N * A2 * A3N * A4 # se poroucha 2. a 4. stroj\n",
    "Q3 = A1N * A2N * A3 * A4 # se poroucha 3. a 4. stroj\n",
    "QFIN = Q1 + Q2 + Q3 + Q4 + Q5 + Q6\n",
    "print(str(round(QFIN, 3)))\n",
    "\n",
    "# Uloha 3\n",
    "# pravdepodobnost ze se neporoucha zadny stroj\n",
    "R = A1N * A2N * A3N * A4N\n",
    "# 1 - (pravdepodobnost ze se porouchá nanejvýš 1 stroj)\n",
    "RFIN = 1-(PFIN+R)\n",
    "print(str(round(RFIN, 3)))"
   ]
  },
  {
   "cell_type": "code",
   "execution_count": null,
   "metadata": {},
   "outputs": [],
   "source": []
  }
 ],
 "metadata": {
  "kernelspec": {
   "display_name": "Python 3.10.6 64-bit",
   "language": "python",
   "name": "python3"
  },
  "language_info": {
   "codemirror_mode": {
    "name": "ipython",
    "version": 3
   },
   "file_extension": ".py",
   "mimetype": "text/x-python",
   "name": "python",
   "nbconvert_exporter": "python",
   "pygments_lexer": "ipython3",
   "version": "3.10.6"
  },
  "orig_nbformat": 4,
  "vscode": {
   "interpreter": {
    "hash": "916dbcbb3f70747c44a77c7bcd40155683ae19c65e1c03b4aa3499c5328201f1"
   }
  }
 },
 "nbformat": 4,
 "nbformat_minor": 2
}
