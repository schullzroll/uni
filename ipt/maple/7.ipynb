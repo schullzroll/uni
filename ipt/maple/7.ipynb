{
 "cells": [
  {
   "cell_type": "code",
   "execution_count": 1,
   "metadata": {},
   "outputs": [],
   "source": [
    "from sympy import symbols, integrate, Eq, solve, together\n",
    "from sympy.abc import a"
   ]
  },
  {
   "cell_type": "code",
   "execution_count": 2,
   "metadata": {},
   "outputs": [],
   "source": [
    "x = symbols('x')\n",
    "y = symbols('y')\n",
    "\n",
    "c = symbols('c')\n",
    "t = symbols('t')\n",
    "\n",
    "u = symbols('u')\n",
    "v = symbols('v')\n",
    "\n",
    "xmin = 1\n",
    "xmax = 3\n",
    "ymax = 4\n",
    "ymin = 3"
   ]
  },
  {
   "cell_type": "code",
   "execution_count": 3,
   "metadata": {},
   "outputs": [
    {
     "data": {
      "text/latex": [
       "$\\displaystyle c \\left(x - y\\right)^{2}$"
      ],
      "text/plain": [
       "c*(x - y)**2"
      ]
     },
     "execution_count": 3,
     "metadata": {},
     "output_type": "execute_result"
    }
   ],
   "source": [
    "fxy = c * (x-y)**2\n",
    "fxy"
   ]
  },
  {
   "cell_type": "code",
   "execution_count": 4,
   "metadata": {},
   "outputs": [
    {
     "data": {
      "text/latex": [
       "$\\displaystyle \\frac{16 c}{3} = 1$"
      ],
      "text/plain": [
       "Eq(16*c/3, 1)"
      ]
     },
     "execution_count": 4,
     "metadata": {},
     "output_type": "execute_result"
    }
   ],
   "source": [
    "eq = Eq(integrate(integrate(fxy, (x, xmin, xmax)), (y, ymin, ymax)), 1)\n",
    "eq"
   ]
  },
  {
   "cell_type": "code",
   "execution_count": 5,
   "metadata": {},
   "outputs": [
    {
     "data": {
      "text/latex": [
       "$\\displaystyle \\frac{3}{16}$"
      ],
      "text/plain": [
       "3/16"
      ]
     },
     "execution_count": 5,
     "metadata": {},
     "output_type": "execute_result"
    }
   ],
   "source": [
    "c_val = solve(eq, c)[0]\n",
    "c_val"
   ]
  },
  {
   "cell_type": "code",
   "execution_count": 6,
   "metadata": {},
   "outputs": [
    {
     "data": {
      "text/latex": [
       "$\\displaystyle \\frac{3 \\left(x - y\\right)^{2}}{16}$"
      ],
      "text/plain": [
       "3*(x - y)**2/16"
      ]
     },
     "execution_count": 6,
     "metadata": {},
     "output_type": "execute_result"
    }
   ],
   "source": [
    "fxy = fxy.subs({c: c_val})\n",
    "fxy"
   ]
  },
  {
   "cell_type": "code",
   "execution_count": 7,
   "metadata": {},
   "outputs": [
    {
     "data": {
      "text/latex": [
       "$\\displaystyle \\frac{3 x^{2} - 21 x + 37}{16}$"
      ],
      "text/plain": [
       "(3*x**2 - 21*x + 37)/16"
      ]
     },
     "execution_count": 7,
     "metadata": {},
     "output_type": "execute_result"
    }
   ],
   "source": [
    "fXx = integrate(fxy, (y, ymin, ymax))\n",
    "together(fXx)"
   ]
  },
  {
   "cell_type": "code",
   "execution_count": 8,
   "metadata": {},
   "outputs": [
    {
     "data": {
      "text/latex": [
       "$\\displaystyle \\frac{3 y^{2} - 12 y + 13}{8}$"
      ],
      "text/plain": [
       "(3*y**2 - 12*y + 13)/8"
      ]
     },
     "execution_count": 8,
     "metadata": {},
     "output_type": "execute_result"
    }
   ],
   "source": [
    "fYy = integrate(fxy, (x, xmin, xmax))\n",
    "together(fYy)"
   ]
  },
  {
   "cell_type": "code",
   "execution_count": 9,
   "metadata": {},
   "outputs": [
    {
     "data": {
      "text/latex": [
       "$\\displaystyle \\frac{2 x^{3} - 21 x^{2} + 74 x - 55}{32}$"
      ],
      "text/plain": [
       "(2*x**3 - 21*x**2 + 74*x - 55)/32"
      ]
     },
     "execution_count": 9,
     "metadata": {},
     "output_type": "execute_result"
    }
   ],
   "source": [
    "FXx = integrate(fXx.subs({x: t}), (t, xmin, x))\n",
    "together(FXx)"
   ]
  },
  {
   "cell_type": "code",
   "execution_count": 10,
   "metadata": {},
   "outputs": [
    {
     "data": {
      "text/latex": [
       "$\\displaystyle \\frac{y^{3} - 6 y^{2} + 13 y - 12}{8}$"
      ],
      "text/plain": [
       "(y**3 - 6*y**2 + 13*y - 12)/8"
      ]
     },
     "execution_count": 10,
     "metadata": {},
     "output_type": "execute_result"
    }
   ],
   "source": [
    "\n",
    "FYy = integrate(fYy.subs({y: t}), (t, ymin, y))\n",
    "together(FYy)"
   ]
  },
  {
   "cell_type": "code",
   "execution_count": 11,
   "metadata": {},
   "outputs": [
    {
     "data": {
      "text/latex": [
       "$\\displaystyle \\frac{2 x^{3} \\left(y - 3\\right) + 3 x^{2} \\cdot \\left(9 - y^{2}\\right) + 2 x \\left(y^{3} - 27\\right) - 2 y^{3} + 3 y^{2} - 2 y + 33}{32}$"
      ],
      "text/plain": [
       "(2*x**3*(y - 3) + 3*x**2*(9 - y**2) + 2*x*(y**3 - 27) - 2*y**3 + 3*y**2 - 2*y + 33)/32"
      ]
     },
     "execution_count": 11,
     "metadata": {},
     "output_type": "execute_result"
    }
   ],
   "source": [
    "Fxy = integrate(integrate(fxy.subs({x: u, y: v}), (v, ymin, y)), (u, xmin, x))\n",
    "together(Fxy)"
   ]
  },
  {
   "cell_type": "code",
   "execution_count": 12,
   "metadata": {},
   "outputs": [
    {
     "data": {
      "text/latex": [
       "$\\displaystyle \\frac{13}{8}$"
      ],
      "text/plain": [
       "13/8"
      ]
     },
     "execution_count": 12,
     "metadata": {},
     "output_type": "execute_result"
    }
   ],
   "source": [
    "EX = integrate(x * fXx, (x, xmin, xmax))\n",
    "EX"
   ]
  },
  {
   "cell_type": "code",
   "execution_count": 13,
   "metadata": {},
   "outputs": [
    {
     "data": {
      "text/latex": [
       "$\\displaystyle \\frac{43}{15}$"
      ],
      "text/plain": [
       "43/15"
      ]
     },
     "execution_count": 13,
     "metadata": {},
     "output_type": "execute_result"
    }
   ],
   "source": [
    "EXsqr = integrate((x**2) * fXx, (x, xmin, xmax))\n",
    "EXsqr"
   ]
  },
  {
   "cell_type": "code",
   "execution_count": 14,
   "metadata": {},
   "outputs": [
    {
     "data": {
      "text/latex": [
       "$\\displaystyle \\frac{217}{960}$"
      ],
      "text/plain": [
       "217/960"
      ]
     },
     "execution_count": 14,
     "metadata": {},
     "output_type": "execute_result"
    }
   ],
   "source": [
    "DX = EXsqr - (EX)**2\n",
    "DX"
   ]
  }
 ],
 "metadata": {
  "kernelspec": {
   "display_name": "Python 3.10.6 64-bit",
   "language": "python",
   "name": "python3"
  },
  "language_info": {
   "codemirror_mode": {
    "name": "ipython",
    "version": 3
   },
   "file_extension": ".py",
   "mimetype": "text/x-python",
   "name": "python",
   "nbconvert_exporter": "python",
   "pygments_lexer": "ipython3",
   "version": "3.10.6"
  },
  "orig_nbformat": 4,
  "vscode": {
   "interpreter": {
    "hash": "916dbcbb3f70747c44a77c7bcd40155683ae19c65e1c03b4aa3499c5328201f1"
   }
  }
 },
 "nbformat": 4,
 "nbformat_minor": 2
}
