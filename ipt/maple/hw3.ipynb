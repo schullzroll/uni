{
 "cells": [
  {
   "cell_type": "code",
   "execution_count": 1,
   "metadata": {},
   "outputs": [],
   "source": [
    "from sympy import symbols, integrate, Eq, solve, solveset, Rational, oo, Integral, simplify, factor, S, exp\n",
    "from sympy.abc import a\n"
   ]
  },
  {
   "cell_type": "code",
   "execution_count": 9,
   "metadata": {},
   "outputs": [
    {
     "name": "stdout",
     "output_type": "stream",
     "text": [
      "c = 1/40\n",
      "---\n",
      "0\n",
      "(a - 3)**2/80\n",
      "(4*a**2 - 56*a + 221)/125\n",
      "1\n",
      "---\n",
      "P(X < 10.1) = 0.507520000000000\n",
      "4*a**2/125 - 56*a/125 + 221/125\n",
      "P(3.8 < X < 5.6) 0.0765000000000000\n",
      "---\n",
      "47/5\n"
     ]
    }
   ],
   "source": [
    "x = symbols('x')\n",
    "c = symbols('c')\n",
    "\n",
    "f1 = c * (x - 3)\n",
    "f2 = Rational(8,125)*(x - 7)\n",
    "\n",
    "s1 = integrate(f1, (x, 3, 7))\n",
    "s2 = integrate(f2, (x, 7, 12))\n",
    "\n",
    "eq = Eq(s1 + s2, 1)\n",
    "\n",
    "c_res = solve(eq, c)[0]\n",
    "\n",
    "print(\"c =\", c_res)\n",
    "print('---')\n",
    "\n",
    "f1 = f1.subs({c: c_res})\n",
    "\n",
    "d0 = 0\n",
    "d1 = integrate(f1, (x, 3, a))\n",
    "d2 = integrate(f1, (x, 3, 7)) + integrate(f2, (x, 7, a))\n",
    "d3 = integrate(f1, (x, 3, 7)) + integrate(f2, (x, 7, 12))\n",
    "\n",
    "\n",
    "print(factor(d0))\n",
    "print(factor(d1))\n",
    "print(factor(d2))\n",
    "print(factor(d3))\n",
    "print(\"---\")\n",
    "print(\"P(X < 10.1) =\", d2.subs({a: 10.1}))\n",
    "print(d2)\n",
    "print(\"P(3.8 < X < 5.6)\", d1.subs({ a: 5.6}) - d1.subs({a: 3.8}))\n",
    "print(\"---\")\n",
    "print(integrate(x * f1, (x, 3, 7)) + integrate(x * f2, (x, 7, 12)))\n"
   ]
  },
  {
   "cell_type": "code",
   "execution_count": 3,
   "metadata": {},
   "outputs": [
    {
     "name": "stdout",
     "output_type": "stream",
     "text": [
      "0.998163695222971\n",
      "---\n",
      "0.00523788235607742\n",
      "---\n",
      "0.0730979394601284*h\n"
     ]
    }
   ],
   "source": [
    "l = 63 / (60 / 6)  # Za 6 minut\n",
    "x = 0\n",
    "# Next car will arrive in 5 minutes\n",
    "print(1 - (l ** x) * exp(-l))\n",
    "print('---')\n",
    "\n",
    "l2 = 63 / (60 / 5)  # Za 5 minut\n",
    "l3 = 63 / (60 / 11)  # Za 11 minut\n",
    "print((l2 ** x) * exp(-l2) - (l3 ** x) * exp(-l3))\n",
    "print('---')\n",
    "\n",
    "t = symbols('t')\n",
    "n = (63 / (60 / t))  # Za t minut\n",
    "print(str(solve(1 - (n ** x) * exp(-n) - 0.99, t)[0] / 60) + '*h')\n"
   ]
  }
 ],
 "metadata": {
  "kernelspec": {
   "display_name": "Python 3.10.6 64-bit",
   "language": "python",
   "name": "python3"
  },
  "language_info": {
   "codemirror_mode": {
    "name": "ipython",
    "version": 3
   },
   "file_extension": ".py",
   "mimetype": "text/x-python",
   "name": "python",
   "nbconvert_exporter": "python",
   "pygments_lexer": "ipython3",
   "version": "3.10.6"
  },
  "orig_nbformat": 4,
  "vscode": {
   "interpreter": {
    "hash": "916dbcbb3f70747c44a77c7bcd40155683ae19c65e1c03b4aa3499c5328201f1"
   }
  }
 },
 "nbformat": 4,
 "nbformat_minor": 2
}
